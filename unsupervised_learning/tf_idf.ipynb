{
 "cells": [
  {
   "cell_type": "code",
   "execution_count": 19,
   "id": "initial_id",
   "metadata": {
    "collapsed": true,
    "ExecuteTime": {
     "end_time": "2024-02-06T12:58:37.930297Z",
     "start_time": "2024-02-06T12:58:30.863881Z"
    }
   },
   "outputs": [],
   "source": [
    "import pandas as pd\n",
    "model_data = pd.read_excel('../data/model_annotations_liwc_h.xlsx')\n",
    "model_data.drop(columns='text', axis=1, inplace=True)\n",
    "\n",
    "\n",
    "text = model_data['proc_text']\n",
    "X = model_data.drop(columns=['model_unanimous','proc_text'], axis=1)\n",
    "y = model_data['model_unanimous']\n"
   ]
  },
  {
   "cell_type": "code",
   "outputs": [
    {
     "data": {
      "text/plain": "                                            proc_text model_unanimous  \\\n0   Dear World:family_man_woman_girl_boy:, you nee...              PO   \n1   .@fordnation says releasing the projection mod...              PO   \n2   \"Neurologists around the world say that a smal...              UN   \n3   Coronavirus: More than one million cases confi...              UN   \n4   This is my Gov, @henrymcmaster, today, 4/2/202...              UN   \n5   The captain of a #US Navy aircraft carrier fac...              PO   \n6   7 Tips On How To Survive A Panic Attack\\nMore ...              PO   \n7   Is anyone else freaked out that there are over...              PO   \n8   :red_circle: LIVE NOW !! \\n\\nDavey Crocko @dcr...              PO   \n9   Covid19: Panic or Prosper in Sales and Marketi...              PO   \n10  Pretty substantial dizziness today, folks.\\n\\n...              UN   \n11  Heartbreaking thoughts from a small business o...              PO   \n12  good evening twitter. i reek of stench and i h...              PP   \n13  I feel like this whole #coronavirus think star...              UN   \n14  #WA state guv Inslee just extended #StayHome m...              PO   \n15  my friend found a depressed UNICORN at the gro...              UN   \n16  If you’re one of the asshats that decided to p...              PO   \n17  I think #publicpressure is being manufactured ...              PO   \n18  Will people return to shaking hands post pande...              UN   \n19  #COVID19 \\nGross Domestic Purchases Price Inde...              PO   \n20  Being panic is normal for human beings &amp; b...              PO   \n21  Consumer panic buying creates supply chain “bu...              PO   \n22  #VideoPsychotherapy #TeleHealth  #OnlineMental...              UN   \n23  PANIC PANIC PANIC PANIC PANIC\\n\\nPeople are gr...              PO   \n24  Panic buying 2020\\n\\n#COVID19Pandemic \\n#COVID...              PO   \n25  On February 17, St Luke’s Hospital was informe...              PO   \n26  \"The media isn’t making this up to create pani...              PO   \n27  This is the kind of BS I don’t like. These num...              UN   \n28  The WHO lied about how serious the global #cor...              PO   \n29  Your main task now. Agenda, Propaganda and Pan...              PO   \n\n    Segment  WC  Analytic  Clout  Authentic   Tone    WPS  BigWords  ...  \\\n0         1  32     52.84  75.49       1.63   1.00  16.00     46.88  ...   \n1         1  28     96.35   3.12      48.09   1.00  28.00     35.71  ...   \n2         1  34     93.03  24.36       4.60  20.23  17.00     29.41  ...   \n3         1  34     93.03  40.06      12.44   1.85  17.00     41.18  ...   \n4         1  42     81.45  54.27      72.58   3.20  10.50     30.95  ...   \n5         1  40     98.55  99.00       1.00  20.23  40.00     25.00  ...   \n6         1  24     98.55  64.67      68.87   1.00  24.00     41.67  ...   \n7         1  40     32.63  26.50      78.67  20.23  10.00     17.50  ...   \n8         1  14     76.24  40.06      72.58   1.00   7.00     50.00  ...   \n9         1  35     85.07  57.11      80.49   1.98  17.50     40.00  ...   \n10        1  15     59.67  99.00       1.91  20.23   3.75     40.00  ...   \n11        1  22     99.00  86.82       1.00   1.00  22.00     27.27  ...   \n12        1  39     10.19   1.00      99.00  20.23  13.00     20.51  ...   \n13        1  25     19.30   7.28      99.00  20.23   8.33     20.00  ...   \n14        1  36     85.20  72.07       1.00   2.17   7.20     36.11  ...   \n15        1  26     96.67  20.31      11.63   1.00   6.50     42.31  ...   \n16        1  47     72.91  98.95      27.91   4.04  11.75     23.40  ...   \n17        1  21     42.52  16.63      56.69   1.00  21.00     23.81  ...   \n18        1  18     89.52  40.06      77.17   1.00   9.00     61.11  ...   \n19        1  13     74.95  40.06      30.98   1.00  13.00     30.77  ...   \n20        1  38     67.62  90.88       1.00   1.00  19.00     26.32  ...   \n21        1  16     89.52  75.49       1.63   1.00  16.00     43.75  ...   \n22        1  30     77.34  22.56       1.91  20.23  15.00     43.33  ...   \n23        1  17     95.53  40.06      46.57   1.00  17.00     23.53  ...   \n24        1   7     89.52  40.06       1.00   1.00   7.00     42.86  ...   \n25        1  28     18.12  61.28       8.95  20.23   9.33     25.00  ...   \n26        1  25     82.95   1.98      13.33   1.00  12.50     16.00  ...   \n27        1  34     16.49   2.18      46.57   1.00   6.80     11.76  ...   \n28        1  43     89.52  53.95      22.48   1.00  10.75     20.93  ...   \n29        1  11     20.83  99.00       5.07   1.00   3.67     36.36  ...   \n\n    nonflu  filler  AllPunc  Period  Comma  QMark  Exclam  Apostro  OtherP  \\\n0      0.0     0.0    59.38    3.13   6.25   0.00    0.00     0.00   50.00   \n1      0.0     0.0    32.14    3.57   3.57   0.00    0.00     3.57   21.43   \n2      0.0     0.0    20.59    2.94   0.00   0.00    0.00     2.94   14.71   \n3      0.0     0.0    14.71    5.88   0.00   0.00    0.00     0.00    8.82   \n4      0.0     0.0    38.10    7.14  11.90   0.00    0.00     2.38   16.67   \n5      0.0     0.0     7.50    2.50   0.00   0.00    0.00     0.00    5.00   \n6      0.0     0.0    37.50    0.00   0.00   0.00    0.00     0.00   37.50   \n7      0.0     0.0    20.00    0.00   2.50   7.50    0.00     0.00   10.00   \n8      0.0     0.0    85.71    0.00   0.00   0.00   14.29     0.00   71.43   \n9      0.0     0.0    40.00    2.86   0.00   0.00    0.00     2.86   34.29   \n10     0.0     0.0    46.67   13.33   6.67   6.67    0.00     6.67   13.33   \n11     0.0     0.0     4.55    0.00   0.00   0.00    0.00     0.00    4.55   \n12     0.0     0.0    20.51    5.13   0.00   0.00    0.00     7.69    7.69   \n13     0.0     0.0    24.00    4.00   0.00   0.00    4.00     0.00   16.00   \n14     0.0     0.0    66.67   11.11   2.78   0.00    0.00     0.00   52.78   \n15     0.0     0.0    50.00   11.54   3.85   0.00    3.85     0.00   30.77   \n16     0.0     0.0    27.66    6.38   4.26   0.00    0.00     4.26   12.77   \n17     0.0     0.0    23.81    0.00   0.00   0.00    0.00     0.00   23.81   \n18     0.0     0.0    61.11    0.00   0.00   5.56    0.00     0.00   55.56   \n19     0.0     0.0     7.69    0.00   0.00   0.00    0.00     0.00    7.69   \n20     0.0     0.0    39.47    2.63   0.00   0.00    0.00     0.00   36.84   \n21     0.0     0.0    50.00    0.00   0.00   0.00    0.00     6.25   43.75   \n22     0.0     0.0    40.00    6.67  10.00   0.00    0.00     0.00   23.33   \n23     0.0     0.0    35.29    0.00   0.00   0.00    0.00     0.00   35.29   \n24     0.0     0.0    57.14    0.00   0.00   0.00    0.00     0.00   57.14   \n25     0.0     0.0    21.43   10.71   3.57   0.00    0.00     3.57    3.57   \n26     0.0     0.0    40.00    4.00   8.00   0.00    0.00     8.00   20.00   \n27     0.0     0.0    20.59   11.76   0.00   0.00    0.00     5.88    2.94   \n28     0.0     0.0    27.91    2.33   4.65   2.33    4.65     0.00   13.95   \n29     0.0     0.0    45.45   18.18   9.09   0.00    0.00     0.00   18.18   \n\n    Emoji  \n0   12.50  \n1    0.00  \n2    0.00  \n3    0.00  \n4    0.00  \n5    0.00  \n6    0.00  \n7    0.00  \n8    7.14  \n9    0.00  \n10   0.00  \n11   0.00  \n12   0.00  \n13   4.00  \n14   0.00  \n15  11.54  \n16   0.00  \n17   0.00  \n18   0.00  \n19   0.00  \n20   0.00  \n21   0.00  \n22   0.00  \n23   0.00  \n24   0.00  \n25   0.00  \n26   0.00  \n27   0.00  \n28   0.00  \n29   0.00  \n\n[30 rows x 121 columns]",
      "text/html": "<div>\n<style scoped>\n    .dataframe tbody tr th:only-of-type {\n        vertical-align: middle;\n    }\n\n    .dataframe tbody tr th {\n        vertical-align: top;\n    }\n\n    .dataframe thead th {\n        text-align: right;\n    }\n</style>\n<table border=\"1\" class=\"dataframe\">\n  <thead>\n    <tr style=\"text-align: right;\">\n      <th></th>\n      <th>proc_text</th>\n      <th>model_unanimous</th>\n      <th>Segment</th>\n      <th>WC</th>\n      <th>Analytic</th>\n      <th>Clout</th>\n      <th>Authentic</th>\n      <th>Tone</th>\n      <th>WPS</th>\n      <th>BigWords</th>\n      <th>...</th>\n      <th>nonflu</th>\n      <th>filler</th>\n      <th>AllPunc</th>\n      <th>Period</th>\n      <th>Comma</th>\n      <th>QMark</th>\n      <th>Exclam</th>\n      <th>Apostro</th>\n      <th>OtherP</th>\n      <th>Emoji</th>\n    </tr>\n  </thead>\n  <tbody>\n    <tr>\n      <th>0</th>\n      <td>Dear World:family_man_woman_girl_boy:, you nee...</td>\n      <td>PO</td>\n      <td>1</td>\n      <td>32</td>\n      <td>52.84</td>\n      <td>75.49</td>\n      <td>1.63</td>\n      <td>1.00</td>\n      <td>16.00</td>\n      <td>46.88</td>\n      <td>...</td>\n      <td>0.0</td>\n      <td>0.0</td>\n      <td>59.38</td>\n      <td>3.13</td>\n      <td>6.25</td>\n      <td>0.00</td>\n      <td>0.00</td>\n      <td>0.00</td>\n      <td>50.00</td>\n      <td>12.50</td>\n    </tr>\n    <tr>\n      <th>1</th>\n      <td>.@fordnation says releasing the projection mod...</td>\n      <td>PO</td>\n      <td>1</td>\n      <td>28</td>\n      <td>96.35</td>\n      <td>3.12</td>\n      <td>48.09</td>\n      <td>1.00</td>\n      <td>28.00</td>\n      <td>35.71</td>\n      <td>...</td>\n      <td>0.0</td>\n      <td>0.0</td>\n      <td>32.14</td>\n      <td>3.57</td>\n      <td>3.57</td>\n      <td>0.00</td>\n      <td>0.00</td>\n      <td>3.57</td>\n      <td>21.43</td>\n      <td>0.00</td>\n    </tr>\n    <tr>\n      <th>2</th>\n      <td>\"Neurologists around the world say that a smal...</td>\n      <td>UN</td>\n      <td>1</td>\n      <td>34</td>\n      <td>93.03</td>\n      <td>24.36</td>\n      <td>4.60</td>\n      <td>20.23</td>\n      <td>17.00</td>\n      <td>29.41</td>\n      <td>...</td>\n      <td>0.0</td>\n      <td>0.0</td>\n      <td>20.59</td>\n      <td>2.94</td>\n      <td>0.00</td>\n      <td>0.00</td>\n      <td>0.00</td>\n      <td>2.94</td>\n      <td>14.71</td>\n      <td>0.00</td>\n    </tr>\n    <tr>\n      <th>3</th>\n      <td>Coronavirus: More than one million cases confi...</td>\n      <td>UN</td>\n      <td>1</td>\n      <td>34</td>\n      <td>93.03</td>\n      <td>40.06</td>\n      <td>12.44</td>\n      <td>1.85</td>\n      <td>17.00</td>\n      <td>41.18</td>\n      <td>...</td>\n      <td>0.0</td>\n      <td>0.0</td>\n      <td>14.71</td>\n      <td>5.88</td>\n      <td>0.00</td>\n      <td>0.00</td>\n      <td>0.00</td>\n      <td>0.00</td>\n      <td>8.82</td>\n      <td>0.00</td>\n    </tr>\n    <tr>\n      <th>4</th>\n      <td>This is my Gov, @henrymcmaster, today, 4/2/202...</td>\n      <td>UN</td>\n      <td>1</td>\n      <td>42</td>\n      <td>81.45</td>\n      <td>54.27</td>\n      <td>72.58</td>\n      <td>3.20</td>\n      <td>10.50</td>\n      <td>30.95</td>\n      <td>...</td>\n      <td>0.0</td>\n      <td>0.0</td>\n      <td>38.10</td>\n      <td>7.14</td>\n      <td>11.90</td>\n      <td>0.00</td>\n      <td>0.00</td>\n      <td>2.38</td>\n      <td>16.67</td>\n      <td>0.00</td>\n    </tr>\n    <tr>\n      <th>5</th>\n      <td>The captain of a #US Navy aircraft carrier fac...</td>\n      <td>PO</td>\n      <td>1</td>\n      <td>40</td>\n      <td>98.55</td>\n      <td>99.00</td>\n      <td>1.00</td>\n      <td>20.23</td>\n      <td>40.00</td>\n      <td>25.00</td>\n      <td>...</td>\n      <td>0.0</td>\n      <td>0.0</td>\n      <td>7.50</td>\n      <td>2.50</td>\n      <td>0.00</td>\n      <td>0.00</td>\n      <td>0.00</td>\n      <td>0.00</td>\n      <td>5.00</td>\n      <td>0.00</td>\n    </tr>\n    <tr>\n      <th>6</th>\n      <td>7 Tips On How To Survive A Panic Attack\\nMore ...</td>\n      <td>PO</td>\n      <td>1</td>\n      <td>24</td>\n      <td>98.55</td>\n      <td>64.67</td>\n      <td>68.87</td>\n      <td>1.00</td>\n      <td>24.00</td>\n      <td>41.67</td>\n      <td>...</td>\n      <td>0.0</td>\n      <td>0.0</td>\n      <td>37.50</td>\n      <td>0.00</td>\n      <td>0.00</td>\n      <td>0.00</td>\n      <td>0.00</td>\n      <td>0.00</td>\n      <td>37.50</td>\n      <td>0.00</td>\n    </tr>\n    <tr>\n      <th>7</th>\n      <td>Is anyone else freaked out that there are over...</td>\n      <td>PO</td>\n      <td>1</td>\n      <td>40</td>\n      <td>32.63</td>\n      <td>26.50</td>\n      <td>78.67</td>\n      <td>20.23</td>\n      <td>10.00</td>\n      <td>17.50</td>\n      <td>...</td>\n      <td>0.0</td>\n      <td>0.0</td>\n      <td>20.00</td>\n      <td>0.00</td>\n      <td>2.50</td>\n      <td>7.50</td>\n      <td>0.00</td>\n      <td>0.00</td>\n      <td>10.00</td>\n      <td>0.00</td>\n    </tr>\n    <tr>\n      <th>8</th>\n      <td>:red_circle: LIVE NOW !! \\n\\nDavey Crocko @dcr...</td>\n      <td>PO</td>\n      <td>1</td>\n      <td>14</td>\n      <td>76.24</td>\n      <td>40.06</td>\n      <td>72.58</td>\n      <td>1.00</td>\n      <td>7.00</td>\n      <td>50.00</td>\n      <td>...</td>\n      <td>0.0</td>\n      <td>0.0</td>\n      <td>85.71</td>\n      <td>0.00</td>\n      <td>0.00</td>\n      <td>0.00</td>\n      <td>14.29</td>\n      <td>0.00</td>\n      <td>71.43</td>\n      <td>7.14</td>\n    </tr>\n    <tr>\n      <th>9</th>\n      <td>Covid19: Panic or Prosper in Sales and Marketi...</td>\n      <td>PO</td>\n      <td>1</td>\n      <td>35</td>\n      <td>85.07</td>\n      <td>57.11</td>\n      <td>80.49</td>\n      <td>1.98</td>\n      <td>17.50</td>\n      <td>40.00</td>\n      <td>...</td>\n      <td>0.0</td>\n      <td>0.0</td>\n      <td>40.00</td>\n      <td>2.86</td>\n      <td>0.00</td>\n      <td>0.00</td>\n      <td>0.00</td>\n      <td>2.86</td>\n      <td>34.29</td>\n      <td>0.00</td>\n    </tr>\n    <tr>\n      <th>10</th>\n      <td>Pretty substantial dizziness today, folks.\\n\\n...</td>\n      <td>UN</td>\n      <td>1</td>\n      <td>15</td>\n      <td>59.67</td>\n      <td>99.00</td>\n      <td>1.91</td>\n      <td>20.23</td>\n      <td>3.75</td>\n      <td>40.00</td>\n      <td>...</td>\n      <td>0.0</td>\n      <td>0.0</td>\n      <td>46.67</td>\n      <td>13.33</td>\n      <td>6.67</td>\n      <td>6.67</td>\n      <td>0.00</td>\n      <td>6.67</td>\n      <td>13.33</td>\n      <td>0.00</td>\n    </tr>\n    <tr>\n      <th>11</th>\n      <td>Heartbreaking thoughts from a small business o...</td>\n      <td>PO</td>\n      <td>1</td>\n      <td>22</td>\n      <td>99.00</td>\n      <td>86.82</td>\n      <td>1.00</td>\n      <td>1.00</td>\n      <td>22.00</td>\n      <td>27.27</td>\n      <td>...</td>\n      <td>0.0</td>\n      <td>0.0</td>\n      <td>4.55</td>\n      <td>0.00</td>\n      <td>0.00</td>\n      <td>0.00</td>\n      <td>0.00</td>\n      <td>0.00</td>\n      <td>4.55</td>\n      <td>0.00</td>\n    </tr>\n    <tr>\n      <th>12</th>\n      <td>good evening twitter. i reek of stench and i h...</td>\n      <td>PP</td>\n      <td>1</td>\n      <td>39</td>\n      <td>10.19</td>\n      <td>1.00</td>\n      <td>99.00</td>\n      <td>20.23</td>\n      <td>13.00</td>\n      <td>20.51</td>\n      <td>...</td>\n      <td>0.0</td>\n      <td>0.0</td>\n      <td>20.51</td>\n      <td>5.13</td>\n      <td>0.00</td>\n      <td>0.00</td>\n      <td>0.00</td>\n      <td>7.69</td>\n      <td>7.69</td>\n      <td>0.00</td>\n    </tr>\n    <tr>\n      <th>13</th>\n      <td>I feel like this whole #coronavirus think star...</td>\n      <td>UN</td>\n      <td>1</td>\n      <td>25</td>\n      <td>19.30</td>\n      <td>7.28</td>\n      <td>99.00</td>\n      <td>20.23</td>\n      <td>8.33</td>\n      <td>20.00</td>\n      <td>...</td>\n      <td>0.0</td>\n      <td>0.0</td>\n      <td>24.00</td>\n      <td>4.00</td>\n      <td>0.00</td>\n      <td>0.00</td>\n      <td>4.00</td>\n      <td>0.00</td>\n      <td>16.00</td>\n      <td>4.00</td>\n    </tr>\n    <tr>\n      <th>14</th>\n      <td>#WA state guv Inslee just extended #StayHome m...</td>\n      <td>PO</td>\n      <td>1</td>\n      <td>36</td>\n      <td>85.20</td>\n      <td>72.07</td>\n      <td>1.00</td>\n      <td>2.17</td>\n      <td>7.20</td>\n      <td>36.11</td>\n      <td>...</td>\n      <td>0.0</td>\n      <td>0.0</td>\n      <td>66.67</td>\n      <td>11.11</td>\n      <td>2.78</td>\n      <td>0.00</td>\n      <td>0.00</td>\n      <td>0.00</td>\n      <td>52.78</td>\n      <td>0.00</td>\n    </tr>\n    <tr>\n      <th>15</th>\n      <td>my friend found a depressed UNICORN at the gro...</td>\n      <td>UN</td>\n      <td>1</td>\n      <td>26</td>\n      <td>96.67</td>\n      <td>20.31</td>\n      <td>11.63</td>\n      <td>1.00</td>\n      <td>6.50</td>\n      <td>42.31</td>\n      <td>...</td>\n      <td>0.0</td>\n      <td>0.0</td>\n      <td>50.00</td>\n      <td>11.54</td>\n      <td>3.85</td>\n      <td>0.00</td>\n      <td>3.85</td>\n      <td>0.00</td>\n      <td>30.77</td>\n      <td>11.54</td>\n    </tr>\n    <tr>\n      <th>16</th>\n      <td>If you’re one of the asshats that decided to p...</td>\n      <td>PO</td>\n      <td>1</td>\n      <td>47</td>\n      <td>72.91</td>\n      <td>98.95</td>\n      <td>27.91</td>\n      <td>4.04</td>\n      <td>11.75</td>\n      <td>23.40</td>\n      <td>...</td>\n      <td>0.0</td>\n      <td>0.0</td>\n      <td>27.66</td>\n      <td>6.38</td>\n      <td>4.26</td>\n      <td>0.00</td>\n      <td>0.00</td>\n      <td>4.26</td>\n      <td>12.77</td>\n      <td>0.00</td>\n    </tr>\n    <tr>\n      <th>17</th>\n      <td>I think #publicpressure is being manufactured ...</td>\n      <td>PO</td>\n      <td>1</td>\n      <td>21</td>\n      <td>42.52</td>\n      <td>16.63</td>\n      <td>56.69</td>\n      <td>1.00</td>\n      <td>21.00</td>\n      <td>23.81</td>\n      <td>...</td>\n      <td>0.0</td>\n      <td>0.0</td>\n      <td>23.81</td>\n      <td>0.00</td>\n      <td>0.00</td>\n      <td>0.00</td>\n      <td>0.00</td>\n      <td>0.00</td>\n      <td>23.81</td>\n      <td>0.00</td>\n    </tr>\n    <tr>\n      <th>18</th>\n      <td>Will people return to shaking hands post pande...</td>\n      <td>UN</td>\n      <td>1</td>\n      <td>18</td>\n      <td>89.52</td>\n      <td>40.06</td>\n      <td>77.17</td>\n      <td>1.00</td>\n      <td>9.00</td>\n      <td>61.11</td>\n      <td>...</td>\n      <td>0.0</td>\n      <td>0.0</td>\n      <td>61.11</td>\n      <td>0.00</td>\n      <td>0.00</td>\n      <td>5.56</td>\n      <td>0.00</td>\n      <td>0.00</td>\n      <td>55.56</td>\n      <td>0.00</td>\n    </tr>\n    <tr>\n      <th>19</th>\n      <td>#COVID19 \\nGross Domestic Purchases Price Inde...</td>\n      <td>PO</td>\n      <td>1</td>\n      <td>13</td>\n      <td>74.95</td>\n      <td>40.06</td>\n      <td>30.98</td>\n      <td>1.00</td>\n      <td>13.00</td>\n      <td>30.77</td>\n      <td>...</td>\n      <td>0.0</td>\n      <td>0.0</td>\n      <td>7.69</td>\n      <td>0.00</td>\n      <td>0.00</td>\n      <td>0.00</td>\n      <td>0.00</td>\n      <td>0.00</td>\n      <td>7.69</td>\n      <td>0.00</td>\n    </tr>\n    <tr>\n      <th>20</th>\n      <td>Being panic is normal for human beings &amp;amp; b...</td>\n      <td>PO</td>\n      <td>1</td>\n      <td>38</td>\n      <td>67.62</td>\n      <td>90.88</td>\n      <td>1.00</td>\n      <td>1.00</td>\n      <td>19.00</td>\n      <td>26.32</td>\n      <td>...</td>\n      <td>0.0</td>\n      <td>0.0</td>\n      <td>39.47</td>\n      <td>2.63</td>\n      <td>0.00</td>\n      <td>0.00</td>\n      <td>0.00</td>\n      <td>0.00</td>\n      <td>36.84</td>\n      <td>0.00</td>\n    </tr>\n    <tr>\n      <th>21</th>\n      <td>Consumer panic buying creates supply chain “bu...</td>\n      <td>PO</td>\n      <td>1</td>\n      <td>16</td>\n      <td>89.52</td>\n      <td>75.49</td>\n      <td>1.63</td>\n      <td>1.00</td>\n      <td>16.00</td>\n      <td>43.75</td>\n      <td>...</td>\n      <td>0.0</td>\n      <td>0.0</td>\n      <td>50.00</td>\n      <td>0.00</td>\n      <td>0.00</td>\n      <td>0.00</td>\n      <td>0.00</td>\n      <td>6.25</td>\n      <td>43.75</td>\n      <td>0.00</td>\n    </tr>\n    <tr>\n      <th>22</th>\n      <td>#VideoPsychotherapy #TeleHealth  #OnlineMental...</td>\n      <td>UN</td>\n      <td>1</td>\n      <td>30</td>\n      <td>77.34</td>\n      <td>22.56</td>\n      <td>1.91</td>\n      <td>20.23</td>\n      <td>15.00</td>\n      <td>43.33</td>\n      <td>...</td>\n      <td>0.0</td>\n      <td>0.0</td>\n      <td>40.00</td>\n      <td>6.67</td>\n      <td>10.00</td>\n      <td>0.00</td>\n      <td>0.00</td>\n      <td>0.00</td>\n      <td>23.33</td>\n      <td>0.00</td>\n    </tr>\n    <tr>\n      <th>23</th>\n      <td>PANIC PANIC PANIC PANIC PANIC\\n\\nPeople are gr...</td>\n      <td>PO</td>\n      <td>1</td>\n      <td>17</td>\n      <td>95.53</td>\n      <td>40.06</td>\n      <td>46.57</td>\n      <td>1.00</td>\n      <td>17.00</td>\n      <td>23.53</td>\n      <td>...</td>\n      <td>0.0</td>\n      <td>0.0</td>\n      <td>35.29</td>\n      <td>0.00</td>\n      <td>0.00</td>\n      <td>0.00</td>\n      <td>0.00</td>\n      <td>0.00</td>\n      <td>35.29</td>\n      <td>0.00</td>\n    </tr>\n    <tr>\n      <th>24</th>\n      <td>Panic buying 2020\\n\\n#COVID19Pandemic \\n#COVID...</td>\n      <td>PO</td>\n      <td>1</td>\n      <td>7</td>\n      <td>89.52</td>\n      <td>40.06</td>\n      <td>1.00</td>\n      <td>1.00</td>\n      <td>7.00</td>\n      <td>42.86</td>\n      <td>...</td>\n      <td>0.0</td>\n      <td>0.0</td>\n      <td>57.14</td>\n      <td>0.00</td>\n      <td>0.00</td>\n      <td>0.00</td>\n      <td>0.00</td>\n      <td>0.00</td>\n      <td>57.14</td>\n      <td>0.00</td>\n    </tr>\n    <tr>\n      <th>25</th>\n      <td>On February 17, St Luke’s Hospital was informe...</td>\n      <td>PO</td>\n      <td>1</td>\n      <td>28</td>\n      <td>18.12</td>\n      <td>61.28</td>\n      <td>8.95</td>\n      <td>20.23</td>\n      <td>9.33</td>\n      <td>25.00</td>\n      <td>...</td>\n      <td>0.0</td>\n      <td>0.0</td>\n      <td>21.43</td>\n      <td>10.71</td>\n      <td>3.57</td>\n      <td>0.00</td>\n      <td>0.00</td>\n      <td>3.57</td>\n      <td>3.57</td>\n      <td>0.00</td>\n    </tr>\n    <tr>\n      <th>26</th>\n      <td>\"The media isn’t making this up to create pani...</td>\n      <td>PO</td>\n      <td>1</td>\n      <td>25</td>\n      <td>82.95</td>\n      <td>1.98</td>\n      <td>13.33</td>\n      <td>1.00</td>\n      <td>12.50</td>\n      <td>16.00</td>\n      <td>...</td>\n      <td>0.0</td>\n      <td>0.0</td>\n      <td>40.00</td>\n      <td>4.00</td>\n      <td>8.00</td>\n      <td>0.00</td>\n      <td>0.00</td>\n      <td>8.00</td>\n      <td>20.00</td>\n      <td>0.00</td>\n    </tr>\n    <tr>\n      <th>27</th>\n      <td>This is the kind of BS I don’t like. These num...</td>\n      <td>UN</td>\n      <td>1</td>\n      <td>34</td>\n      <td>16.49</td>\n      <td>2.18</td>\n      <td>46.57</td>\n      <td>1.00</td>\n      <td>6.80</td>\n      <td>11.76</td>\n      <td>...</td>\n      <td>0.0</td>\n      <td>0.0</td>\n      <td>20.59</td>\n      <td>11.76</td>\n      <td>0.00</td>\n      <td>0.00</td>\n      <td>0.00</td>\n      <td>5.88</td>\n      <td>2.94</td>\n      <td>0.00</td>\n    </tr>\n    <tr>\n      <th>28</th>\n      <td>The WHO lied about how serious the global #cor...</td>\n      <td>PO</td>\n      <td>1</td>\n      <td>43</td>\n      <td>89.52</td>\n      <td>53.95</td>\n      <td>22.48</td>\n      <td>1.00</td>\n      <td>10.75</td>\n      <td>20.93</td>\n      <td>...</td>\n      <td>0.0</td>\n      <td>0.0</td>\n      <td>27.91</td>\n      <td>2.33</td>\n      <td>4.65</td>\n      <td>2.33</td>\n      <td>4.65</td>\n      <td>0.00</td>\n      <td>13.95</td>\n      <td>0.00</td>\n    </tr>\n    <tr>\n      <th>29</th>\n      <td>Your main task now. Agenda, Propaganda and Pan...</td>\n      <td>PO</td>\n      <td>1</td>\n      <td>11</td>\n      <td>20.83</td>\n      <td>99.00</td>\n      <td>5.07</td>\n      <td>1.00</td>\n      <td>3.67</td>\n      <td>36.36</td>\n      <td>...</td>\n      <td>0.0</td>\n      <td>0.0</td>\n      <td>45.45</td>\n      <td>18.18</td>\n      <td>9.09</td>\n      <td>0.00</td>\n      <td>0.00</td>\n      <td>0.00</td>\n      <td>18.18</td>\n      <td>0.00</td>\n    </tr>\n  </tbody>\n</table>\n<p>30 rows × 121 columns</p>\n</div>"
     },
     "execution_count": 20,
     "metadata": {},
     "output_type": "execute_result"
    }
   ],
   "source": [
    "model_data.head(30)"
   ],
   "metadata": {
    "collapsed": false,
    "ExecuteTime": {
     "end_time": "2024-02-06T12:58:37.956291Z",
     "start_time": "2024-02-06T12:58:37.944227Z"
    }
   },
   "id": "194b45a2e3dc4013",
   "execution_count": 20
  },
  {
   "cell_type": "code",
   "outputs": [],
   "source": [
    "from sklearn.feature_selection import SelectPercentile\n",
    "from sklearn.feature_extraction.text import TfidfVectorizer\n",
    "import pickle \n",
    "\n",
    "\n",
    "tfidf = TfidfVectorizer(analyzer='word'\n",
    "                        , min_df=0.05\n",
    "                        , stop_words='english')\n",
    "tfidf_wm = tfidf.fit_transform(text)\n",
    "tfidf_tokens = tfidf.get_feature_names_out()\n",
    "df_tfidfvect = pd.DataFrame(data = tfidf_wm.toarray(),columns = tfidf_tokens)\n",
    "\n",
    "X = pd.concat([df_tfidfvect, X], axis=1)\n",
    "pickle.dump(tfidf, open('../supervised_part/models/tfidf_vectorizer.pkl', 'wb'))\n"
   ],
   "metadata": {
    "collapsed": false,
    "ExecuteTime": {
     "end_time": "2024-02-06T12:58:38.133200Z",
     "start_time": "2024-02-06T12:58:37.948106Z"
    }
   },
   "id": "deccb56e528380e9",
   "execution_count": 21
  },
  {
   "cell_type": "markdown",
   "source": [],
   "metadata": {
    "collapsed": false
   },
   "id": "d7d940a2f9797909"
  },
  {
   "cell_type": "code",
   "outputs": [
    {
     "name": "stdout",
     "output_type": "stream",
     "text": [
      "X shape: (12678, 145)\n",
      "X_high_variance shape: (12678, 144)\n"
     ]
    },
    {
     "data": {
      "text/plain": "    19  amp  breath  buying  chill  coronavirus  covid   covid19  covid_19  \\\n0  0.0  0.0     0.0     0.0    0.0      0.30267    0.0  0.304883       0.0   \n\n   don  ...  nonflu  filler  AllPunc  Period  Comma  QMark  Exclam  Apostro  \\\n0  0.0  ...     0.0     0.0    59.38    3.13   6.25    0.0     0.0      0.0   \n\n   OtherP  Emoji  \n0    50.0   12.5  \n\n[1 rows x 144 columns]",
      "text/html": "<div>\n<style scoped>\n    .dataframe tbody tr th:only-of-type {\n        vertical-align: middle;\n    }\n\n    .dataframe tbody tr th {\n        vertical-align: top;\n    }\n\n    .dataframe thead th {\n        text-align: right;\n    }\n</style>\n<table border=\"1\" class=\"dataframe\">\n  <thead>\n    <tr style=\"text-align: right;\">\n      <th></th>\n      <th>19</th>\n      <th>amp</th>\n      <th>breath</th>\n      <th>buying</th>\n      <th>chill</th>\n      <th>coronavirus</th>\n      <th>covid</th>\n      <th>covid19</th>\n      <th>covid_19</th>\n      <th>don</th>\n      <th>...</th>\n      <th>nonflu</th>\n      <th>filler</th>\n      <th>AllPunc</th>\n      <th>Period</th>\n      <th>Comma</th>\n      <th>QMark</th>\n      <th>Exclam</th>\n      <th>Apostro</th>\n      <th>OtherP</th>\n      <th>Emoji</th>\n    </tr>\n  </thead>\n  <tbody>\n    <tr>\n      <th>0</th>\n      <td>0.0</td>\n      <td>0.0</td>\n      <td>0.0</td>\n      <td>0.0</td>\n      <td>0.0</td>\n      <td>0.30267</td>\n      <td>0.0</td>\n      <td>0.304883</td>\n      <td>0.0</td>\n      <td>0.0</td>\n      <td>...</td>\n      <td>0.0</td>\n      <td>0.0</td>\n      <td>59.38</td>\n      <td>3.13</td>\n      <td>6.25</td>\n      <td>0.0</td>\n      <td>0.0</td>\n      <td>0.0</td>\n      <td>50.0</td>\n      <td>12.5</td>\n    </tr>\n  </tbody>\n</table>\n<p>1 rows × 144 columns</p>\n</div>"
     },
     "execution_count": 22,
     "metadata": {},
     "output_type": "execute_result"
    }
   ],
   "source": [
    "from sklearn.feature_selection import VarianceThreshold\n",
    "\n",
    "\n",
    "thresholder = VarianceThreshold()\n",
    "X_high_variance = thresholder.fit_transform(X)\n",
    "mask = thresholder.get_support(indices=True)\n",
    "feature_names_high_variance = X.columns[mask]\n",
    "X_high_variance = pd.DataFrame(X_high_variance, columns=feature_names_high_variance)\n",
    "\n",
    "pickle.dump(tfidf, open('../supervised_part/models/thresholder.pkl', 'wb'))\n",
    "\n",
    "\n",
    "print(\"X shape:\", X.shape)\n",
    "print(\"X_high_variance shape:\", X_high_variance.shape)\n",
    "X_high_variance.head(1)\n",
    "\n"
   ],
   "metadata": {
    "collapsed": false,
    "ExecuteTime": {
     "end_time": "2024-02-06T12:58:38.163971Z",
     "start_time": "2024-02-06T12:58:38.136767Z"
    }
   },
   "id": "c006c31d782f53a9",
   "execution_count": 22
  },
  {
   "cell_type": "code",
   "outputs": [
    {
     "data": {
      "text/plain": "    19  amp  breath  buying  chill  coronavirus  covid   covid19  covid_19  \\\n0  0.0  0.0     0.0     0.0    0.0      0.30267    0.0  0.304883       0.0   \n\n   don  ...  nonflu  filler  AllPunc  Period  Comma  QMark  Exclam  Apostro  \\\n0  0.0  ...     0.0     0.0    59.38    3.13   6.25    0.0     0.0      0.0   \n\n   OtherP  Emoji  \n0    50.0   12.5  \n\n[1 rows x 144 columns]",
      "text/html": "<div>\n<style scoped>\n    .dataframe tbody tr th:only-of-type {\n        vertical-align: middle;\n    }\n\n    .dataframe tbody tr th {\n        vertical-align: top;\n    }\n\n    .dataframe thead th {\n        text-align: right;\n    }\n</style>\n<table border=\"1\" class=\"dataframe\">\n  <thead>\n    <tr style=\"text-align: right;\">\n      <th></th>\n      <th>19</th>\n      <th>amp</th>\n      <th>breath</th>\n      <th>buying</th>\n      <th>chill</th>\n      <th>coronavirus</th>\n      <th>covid</th>\n      <th>covid19</th>\n      <th>covid_19</th>\n      <th>don</th>\n      <th>...</th>\n      <th>nonflu</th>\n      <th>filler</th>\n      <th>AllPunc</th>\n      <th>Period</th>\n      <th>Comma</th>\n      <th>QMark</th>\n      <th>Exclam</th>\n      <th>Apostro</th>\n      <th>OtherP</th>\n      <th>Emoji</th>\n    </tr>\n  </thead>\n  <tbody>\n    <tr>\n      <th>0</th>\n      <td>0.0</td>\n      <td>0.0</td>\n      <td>0.0</td>\n      <td>0.0</td>\n      <td>0.0</td>\n      <td>0.30267</td>\n      <td>0.0</td>\n      <td>0.304883</td>\n      <td>0.0</td>\n      <td>0.0</td>\n      <td>...</td>\n      <td>0.0</td>\n      <td>0.0</td>\n      <td>59.38</td>\n      <td>3.13</td>\n      <td>6.25</td>\n      <td>0.0</td>\n      <td>0.0</td>\n      <td>0.0</td>\n      <td>50.0</td>\n      <td>12.5</td>\n    </tr>\n  </tbody>\n</table>\n<p>1 rows × 144 columns</p>\n</div>"
     },
     "execution_count": 23,
     "metadata": {},
     "output_type": "execute_result"
    }
   ],
   "source": [
    "X_high_variance.head(1)"
   ],
   "metadata": {
    "collapsed": false,
    "ExecuteTime": {
     "end_time": "2024-02-06T12:58:38.171039Z",
     "start_time": "2024-02-06T12:58:38.167897Z"
    }
   },
   "id": "a077324c8551130d",
   "execution_count": 23
  },
  {
   "cell_type": "code",
   "outputs": [],
   "source": [
    "output_dataset = pd.concat([X_high_variance, y], axis=1)\n",
    "output_dataset.to_csv('../data/tfidf_data_model_annotations_liwc_h.csv')\n",
    "output_dataset_tfidf = pd.concat([df_tfidfvect, y], axis=1)\n",
    "output_dataset_tfidf.to_csv('../data/tfidf_only.csv')"
   ],
   "metadata": {
    "collapsed": false,
    "ExecuteTime": {
     "end_time": "2024-02-06T12:58:38.953730Z",
     "start_time": "2024-02-06T12:58:38.171178Z"
    }
   },
   "id": "fa200dd853787edc",
   "execution_count": 24
  }
 ],
 "metadata": {
  "kernelspec": {
   "display_name": "Python 3",
   "language": "python",
   "name": "python3"
  },
  "language_info": {
   "codemirror_mode": {
    "name": "ipython",
    "version": 2
   },
   "file_extension": ".py",
   "mimetype": "text/x-python",
   "name": "python",
   "nbconvert_exporter": "python",
   "pygments_lexer": "ipython2",
   "version": "2.7.6"
  }
 },
 "nbformat": 4,
 "nbformat_minor": 5
}
